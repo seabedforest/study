{
 "cells": [
  {
   "cell_type": "code",
   "execution_count": 1,
   "metadata": {},
   "outputs": [],
   "source": [
    "import numpy as np\n",
    "import pandas as pd\n",
    "import sklearn.model_selection as ms\n",
    "import sklearn.naive_bayes as nb\n",
    "import sklearn.metrics as sm\n",
    "import jieba"
   ]
  },
  {
   "cell_type": "code",
   "execution_count": 2,
   "metadata": {},
   "outputs": [
    {
     "name": "stderr",
     "output_type": "stream",
     "text": [
      "Building prefix dict from the default dictionary ...\n",
      "Loading model from cache /tmp/jieba.cache\n",
      "Loading model cost 0.917 seconds.\n",
      "Prefix dict has been built successfully.\n"
     ]
    },
    {
     "data": {
      "text/html": [
       "<div>\n",
       "<style scoped>\n",
       "    .dataframe tbody tr th:only-of-type {\n",
       "        vertical-align: middle;\n",
       "    }\n",
       "\n",
       "    .dataframe tbody tr th {\n",
       "        vertical-align: top;\n",
       "    }\n",
       "\n",
       "    .dataframe thead th {\n",
       "        text-align: right;\n",
       "    }\n",
       "</style>\n",
       "<table border=\"1\" class=\"dataframe\">\n",
       "  <thead>\n",
       "    <tr style=\"text-align: right;\">\n",
       "      <th></th>\n",
       "      <th>label</th>\n",
       "      <th>review</th>\n",
       "    </tr>\n",
       "  </thead>\n",
       "  <tbody>\n",
       "    <tr>\n",
       "      <th>2879</th>\n",
       "      <td>1</td>\n",
       "      <td>这个 酒店 住 过 了 无数次 了 ， 客观 的 来说 是 个 值得 推荐 的 酒店 ， 曾...</td>\n",
       "    </tr>\n",
       "    <tr>\n",
       "      <th>2880</th>\n",
       "      <td>1</td>\n",
       "      <td>这次 和 同事 一起 订 的 房间 ， 我 在 22 楼 ， 房间 明显 没有 同事 10 ...</td>\n",
       "    </tr>\n",
       "    <tr>\n",
       "      <th>2881</th>\n",
       "      <td>1</td>\n",
       "      <td>没有 参加 过 评价 ， 但 感觉 很多 酒店 的 评价 不 客观 。 这次 参与 一下 。...</td>\n",
       "    </tr>\n",
       "    <tr>\n",
       "      <th>2882</th>\n",
       "      <td>1</td>\n",
       "      <td>地理位置 不错 ， 就是 临街 有点 吵 ， 其他 都 不错</td>\n",
       "    </tr>\n",
       "    <tr>\n",
       "      <th>2883</th>\n",
       "      <td>1</td>\n",
       "      <td>比较 高 的 性价比 , 环境 服务 都 不错 . 68 的 自助餐 也 还 不错 , 每人...</td>\n",
       "    </tr>\n",
       "    <tr>\n",
       "      <th>...</th>\n",
       "      <td>...</td>\n",
       "      <td>...</td>\n",
       "    </tr>\n",
       "    <tr>\n",
       "      <th>7760</th>\n",
       "      <td>0</td>\n",
       "      <td>尼斯 酒店 的 几大 特点 ： 噪音 大 、 环境 差 、 配置 低 、 服务 效率 低 。...</td>\n",
       "    </tr>\n",
       "    <tr>\n",
       "      <th>7761</th>\n",
       "      <td>0</td>\n",
       "      <td>盐城 来 了 很 多次 ， 第一次 住 盐阜 宾馆 ， 我 的确 很 失望 整个 墙壁 黑咕...</td>\n",
       "    </tr>\n",
       "    <tr>\n",
       "      <th>7762</th>\n",
       "      <td>0</td>\n",
       "      <td>看 照片 觉得 还 挺不错 的 ， 又 是 4 星级 的 ， 但 入住 以后 除了 后悔 没...</td>\n",
       "    </tr>\n",
       "    <tr>\n",
       "      <th>7763</th>\n",
       "      <td>0</td>\n",
       "      <td>我们 去 盐城 的 时候 那里 的 最低气温 只有 4 度 ， 晚上 冷得 要死 ， 居然 ...</td>\n",
       "    </tr>\n",
       "    <tr>\n",
       "      <th>7764</th>\n",
       "      <td>0</td>\n",
       "      <td>说 实在 的 我 很 失望 ， 之前 看 了 其他人 的 点评 后 觉得 还 可以 才 去 ...</td>\n",
       "    </tr>\n",
       "  </tbody>\n",
       "</table>\n",
       "<p>4886 rows × 2 columns</p>\n",
       "</div>"
      ],
      "text/plain": [
       "      label                                             review\n",
       "2879      1  这个 酒店 住 过 了 无数次 了 ， 客观 的 来说 是 个 值得 推荐 的 酒店 ， 曾...\n",
       "2880      1  这次 和 同事 一起 订 的 房间 ， 我 在 22 楼 ， 房间 明显 没有 同事 10 ...\n",
       "2881      1  没有 参加 过 评价 ， 但 感觉 很多 酒店 的 评价 不 客观 。 这次 参与 一下 。...\n",
       "2882      1                     地理位置 不错 ， 就是 临街 有点 吵 ， 其他 都 不错\n",
       "2883      1  比较 高 的 性价比 , 环境 服务 都 不错 . 68 的 自助餐 也 还 不错 , 每人...\n",
       "...     ...                                                ...\n",
       "7760      0  尼斯 酒店 的 几大 特点 ： 噪音 大 、 环境 差 、 配置 低 、 服务 效率 低 。...\n",
       "7761      0  盐城 来 了 很 多次 ， 第一次 住 盐阜 宾馆 ， 我 的确 很 失望 整个 墙壁 黑咕...\n",
       "7762      0  看 照片 觉得 还 挺不错 的 ， 又 是 4 星级 的 ， 但 入住 以后 除了 后悔 没...\n",
       "7763      0  我们 去 盐城 的 时候 那里 的 最低气温 只有 4 度 ， 晚上 冷得 要死 ， 居然 ...\n",
       "7764      0  说 实在 的 我 很 失望 ， 之前 看 了 其他人 的 点评 后 觉得 还 可以 才 去 ...\n",
       "\n",
       "[4886 rows x 2 columns]"
      ]
     },
     "execution_count": 2,
     "metadata": {},
     "output_type": "execute_result"
    }
   ],
   "source": [
    "jieba.load_userdict('dic.txt')\n",
    "#加载样本，针对每个评论做分词操作\n",
    "data=pd.read_csv('htl_all.csv')\n",
    "\n",
    "#下采样 实现样本均衡化\n",
    "data=data.tail((data['label']==0).sum()*2)\n",
    "\n",
    "def func(item):\n",
    "    seg_list=jieba.cut(item)\n",
    "    return ' '.join(seg_list)\n",
    "\n",
    "data['review']=data['review'].apply(func)\n",
    "data"
   ]
  },
  {
   "cell_type": "code",
   "execution_count": 3,
   "metadata": {},
   "outputs": [
    {
     "data": {
      "text/html": [
       "<div>\n",
       "<style scoped>\n",
       "    .dataframe tbody tr th:only-of-type {\n",
       "        vertical-align: middle;\n",
       "    }\n",
       "\n",
       "    .dataframe tbody tr th {\n",
       "        vertical-align: top;\n",
       "    }\n",
       "\n",
       "    .dataframe thead th {\n",
       "        text-align: right;\n",
       "    }\n",
       "</style>\n",
       "<table border=\"1\" class=\"dataframe\">\n",
       "  <thead>\n",
       "    <tr style=\"text-align: right;\">\n",
       "      <th></th>\n",
       "      <th>label</th>\n",
       "      <th>review</th>\n",
       "    </tr>\n",
       "  </thead>\n",
       "  <tbody>\n",
       "    <tr>\n",
       "      <th>2879</th>\n",
       "      <td>1</td>\n",
       "      <td>这个 酒店 住 过 了 无数次 了 ， 客观 的 来说 是 个 值得 推荐 的 酒店 ， 曾...</td>\n",
       "    </tr>\n",
       "    <tr>\n",
       "      <th>2880</th>\n",
       "      <td>1</td>\n",
       "      <td>这次 和 同事 一起 订 的 房间 ， 我 在 22 楼 ， 房间 明显 没有 同事 10 ...</td>\n",
       "    </tr>\n",
       "    <tr>\n",
       "      <th>2881</th>\n",
       "      <td>1</td>\n",
       "      <td>没有 参加 过 评价 ， 但 感觉 很多 酒店 的 评价 不 客观 。 这次 参与 一下 。...</td>\n",
       "    </tr>\n",
       "    <tr>\n",
       "      <th>2882</th>\n",
       "      <td>1</td>\n",
       "      <td>地理位置 不错 ， 就是 临街 有点 吵 ， 其他 都 不错</td>\n",
       "    </tr>\n",
       "    <tr>\n",
       "      <th>2883</th>\n",
       "      <td>1</td>\n",
       "      <td>比较 高 的 性价比 , 环境 服务 都 不错 . 68 的 自助餐 也 还 不错 , 每人...</td>\n",
       "    </tr>\n",
       "  </tbody>\n",
       "</table>\n",
       "</div>"
      ],
      "text/plain": [
       "      label                                             review\n",
       "2879      1  这个 酒店 住 过 了 无数次 了 ， 客观 的 来说 是 个 值得 推荐 的 酒店 ， 曾...\n",
       "2880      1  这次 和 同事 一起 订 的 房间 ， 我 在 22 楼 ， 房间 明显 没有 同事 10 ...\n",
       "2881      1  没有 参加 过 评价 ， 但 感觉 很多 酒店 的 评价 不 客观 。 这次 参与 一下 。...\n",
       "2882      1                     地理位置 不错 ， 就是 临街 有点 吵 ， 其他 都 不错\n",
       "2883      1  比较 高 的 性价比 , 环境 服务 都 不错 . 68 的 自助餐 也 还 不错 , 每人..."
      ]
     },
     "execution_count": 3,
     "metadata": {},
     "output_type": "execute_result"
    }
   ],
   "source": [
    "data.head()"
   ]
  },
  {
   "cell_type": "code",
   "execution_count": 4,
   "metadata": {},
   "outputs": [
    {
     "name": "stdout",
     "output_type": "stream",
     "text": [
      "              precision    recall  f1-score   support\n",
      "\n",
      "           0       0.87      0.86      0.87       640\n",
      "           1       0.85      0.86      0.86       582\n",
      "\n",
      "    accuracy                           0.86      1222\n",
      "   macro avg       0.86      0.86      0.86      1222\n",
      "weighted avg       0.86      0.86      0.86      1222\n",
      "\n"
     ]
    }
   ],
   "source": [
    "#针对review这一列做tfidf\n",
    "import sklearn.feature_extraction.text as ft\n",
    "cv=ft.CountVectorizer()\n",
    "bow=cv.fit_transform(data['review'])\n",
    "tt=ft.TfidfTransformer()\n",
    "tfidf=tt.fit_transform(bow)\n",
    "#拆分测试集训练集\n",
    "train_x,test_x,train_y,test_y=ms.train_test_split(tfidf,data['label'],random_state=7)\n",
    "#训练朴素贝叶斯模型\n",
    "model=nb.MultinomialNB()\n",
    "model.fit(train_x,train_y)\n",
    "pred_test_y=model.predict(test_x)\n",
    "print(sm.classification_report(test_y,pred_test_y))"
   ]
  },
  {
   "cell_type": "code",
   "execution_count": 5,
   "metadata": {},
   "outputs": [
    {
     "data": {
      "text/plain": [
       "1    2443\n",
       "0    2443\n",
       "Name: label, dtype: int64"
      ]
     },
     "execution_count": 5,
     "metadata": {},
     "output_type": "execute_result"
    }
   ],
   "source": [
    "data['label'].value_counts()"
   ]
  },
  {
   "cell_type": "code",
   "execution_count": 8,
   "metadata": {},
   "outputs": [
    {
     "data": {
      "text/plain": [
       "array([1, 0, 0, 1, 0, 0])"
      ]
     },
     "execution_count": 8,
     "metadata": {},
     "output_type": "execute_result"
    }
   ],
   "source": [
    "#针对一组真实数据，进行情感分析\n",
    "test_data=['这家酒店不错，吃得好，住得好，玩得好。','这家酒店真垃圾，哪哪都垃圾，再也不来了，谁来谁孙子！',\n",
    "           '房间还算干净，厕所有一点点味道，其他还凑合。','我不喜欢','不好','下次不来了']\n",
    "#先分词，然后转成tfidf,在预测\n",
    "test_data=pd.Series(test_data).apply(func)\n",
    "bow=cv.transform(test_data)\n",
    "tfidf=tt.transform(bow)\n",
    "pred_y=model.predict(tfidf)\n",
    "pred_y"
   ]
  },
  {
   "cell_type": "markdown",
   "metadata": {},
   "source": [
    "1.通过股民的评论，判断市场风向看涨还是看跌。\n",
    "2.通过新闻的评论，判断对印度是干他还是冷静\n",
    "3.通过新闻的评论，判断民众对国家房价的调控政策的赞成与否\n"
   ]
  },
  {
   "cell_type": "code",
   "execution_count": 11,
   "metadata": {},
   "outputs": [
    {
     "data": {
      "text/plain": [
       "3829    False\n",
       "7219     True\n",
       "6113     True\n",
       "6572     True\n",
       "3811    False\n",
       "        ...  \n",
       "6676     True\n",
       "6516    False\n",
       "3680    False\n",
       "6001    False\n",
       "5578    False\n",
       "Name: label, Length: 1222, dtype: bool"
      ]
     },
     "execution_count": 11,
     "metadata": {},
     "output_type": "execute_result"
    }
   ],
   "source": [
    "test_y != pred_test_y"
   ]
  },
  {
   "cell_type": "code",
   "execution_count": 13,
   "metadata": {},
   "outputs": [
    {
     "data": {
      "text/html": [
       "<div>\n",
       "<style scoped>\n",
       "    .dataframe tbody tr th:only-of-type {\n",
       "        vertical-align: middle;\n",
       "    }\n",
       "\n",
       "    .dataframe tbody tr th {\n",
       "        vertical-align: top;\n",
       "    }\n",
       "\n",
       "    .dataframe thead th {\n",
       "        text-align: right;\n",
       "    }\n",
       "</style>\n",
       "<table border=\"1\" class=\"dataframe\">\n",
       "  <thead>\n",
       "    <tr style=\"text-align: right;\">\n",
       "      <th></th>\n",
       "      <th>label</th>\n",
       "      <th>review</th>\n",
       "    </tr>\n",
       "  </thead>\n",
       "  <tbody>\n",
       "    <tr>\n",
       "      <th>7219</th>\n",
       "      <td>0</td>\n",
       "      <td>酒店 真的 像 足 了 2 星级 的 感觉 ， 除了 早餐 不错 ， 从 服务 到 住宿 ，...</td>\n",
       "    </tr>\n",
       "    <tr>\n",
       "      <th>6113</th>\n",
       "      <td>0</td>\n",
       "      <td>酒店 比较 偏 了 ， 虽然 是 在 东方 路上 ， 周围 也 没什么 餐馆 可以 吃饭 的</td>\n",
       "    </tr>\n",
       "    <tr>\n",
       "      <th>6572</th>\n",
       "      <td>0</td>\n",
       "      <td>总体 感到 如 家 房间 较 干净 的 就是 房间 太小 了 ， 性价比 不高 ， 比 隔壁...</td>\n",
       "    </tr>\n",
       "    <tr>\n",
       "      <th>4436</th>\n",
       "      <td>1</td>\n",
       "      <td>我 是 十一 入住 的 ， 酒店 已经 进入 淡季 ， 整个 酒店 只有 一个 餐厅 营业 ...</td>\n",
       "    </tr>\n",
       "    <tr>\n",
       "      <th>6230</th>\n",
       "      <td>0</td>\n",
       "      <td>酒店 的 房间 装修 得 飞常好 ， 空间 也 很大 ， 可是 我 非常 不能 理解 的 是...</td>\n",
       "    </tr>\n",
       "    <tr>\n",
       "      <th>...</th>\n",
       "      <td>...</td>\n",
       "      <td>...</td>\n",
       "    </tr>\n",
       "    <tr>\n",
       "      <th>3329</th>\n",
       "      <td>1</td>\n",
       "      <td>前台 接待 人员 态度 比较 生硬 ， 客户服务 人员 的 态度 比较 好 （ 比较 耐心 ...</td>\n",
       "    </tr>\n",
       "    <tr>\n",
       "      <th>3702</th>\n",
       "      <td>1</td>\n",
       "      <td>不错 的 酒店 ！ 就是 入住 时间 得不到 保证 ！ 下午 3 点 以后 到达 仍 说 没...</td>\n",
       "    </tr>\n",
       "    <tr>\n",
       "      <th>3985</th>\n",
       "      <td>1</td>\n",
       "      <td>本 以为 458 的 价格 ， 房间 不会 太小 ， 可 进去 以后 ， 还是 小得 让 人...</td>\n",
       "    </tr>\n",
       "    <tr>\n",
       "      <th>7080</th>\n",
       "      <td>0</td>\n",
       "      <td>酒店 说 是 可以 免费 上网 , 但 只是 自带 网线 而言 , 如 要 借用 酒店 提供...</td>\n",
       "    </tr>\n",
       "    <tr>\n",
       "      <th>6676</th>\n",
       "      <td>0</td>\n",
       "      <td>老牌 宾馆 ， 设施 很 旧 ， 两百多 元 一点 都 不值 ， 网速 较慢 。</td>\n",
       "    </tr>\n",
       "  </tbody>\n",
       "</table>\n",
       "<p>169 rows × 2 columns</p>\n",
       "</div>"
      ],
      "text/plain": [
       "      label                                             review\n",
       "7219      0  酒店 真的 像 足 了 2 星级 的 感觉 ， 除了 早餐 不错 ， 从 服务 到 住宿 ，...\n",
       "6113      0     酒店 比较 偏 了 ， 虽然 是 在 东方 路上 ， 周围 也 没什么 餐馆 可以 吃饭 的\n",
       "6572      0  总体 感到 如 家 房间 较 干净 的 就是 房间 太小 了 ， 性价比 不高 ， 比 隔壁...\n",
       "4436      1  我 是 十一 入住 的 ， 酒店 已经 进入 淡季 ， 整个 酒店 只有 一个 餐厅 营业 ...\n",
       "6230      0  酒店 的 房间 装修 得 飞常好 ， 空间 也 很大 ， 可是 我 非常 不能 理解 的 是...\n",
       "...     ...                                                ...\n",
       "3329      1  前台 接待 人员 态度 比较 生硬 ， 客户服务 人员 的 态度 比较 好 （ 比较 耐心 ...\n",
       "3702      1  不错 的 酒店 ！ 就是 入住 时间 得不到 保证 ！ 下午 3 点 以后 到达 仍 说 没...\n",
       "3985      1  本 以为 458 的 价格 ， 房间 不会 太小 ， 可 进去 以后 ， 还是 小得 让 人...\n",
       "7080      0  酒店 说 是 可以 免费 上网 , 但 只是 自带 网线 而言 , 如 要 借用 酒店 提供...\n",
       "6676      0           老牌 宾馆 ， 设施 很 旧 ， 两百多 元 一点 都 不值 ， 网速 较慢 。\n",
       "\n",
       "[169 rows x 2 columns]"
      ]
     },
     "execution_count": 13,
     "metadata": {},
     "output_type": "execute_result"
    }
   ],
   "source": [
    "error_mask=(test_y-pred_test_y) !=0\n",
    "data.loc[error_mask.index][error_mask]"
   ]
  },
  {
   "cell_type": "code",
   "execution_count": 19,
   "metadata": {},
   "outputs": [
    {
     "name": "stdout",
     "output_type": "stream",
     "text": [
      "这家 酒店 不错 ， 吃 得 好 ， 住 得 好 ， 玩得 好 。 : 1 -> 0.7010794325403221\n",
      "这家 酒店 真 垃圾 ， 哪 哪 都 垃圾 ， 再也 不来 了 ， 谁 来 谁 孙子 ！ : 0 -> 0.8823239238696743\n",
      "房间 还 算 干净 ， 厕所 有 一点点 味道 ， 其他 还 凑合 。 : 0 -> 0.5482483215931856\n",
      "我 不 喜欢 : 1 -> 0.7901368822155739\n",
      "不好 : 0 -> 0.7116833525112581\n",
      "下次 不来 了 : 0 -> 0.5214596247040061\n"
     ]
    }
   ],
   "source": [
    "#输出每个样本的置信概率\n",
    "pred_prob_y=model.predict_proba(tfidf)\n",
    "prob_y=pred_prob_y.max(axis=1)\n",
    "for a,b,c in zip(test_data,pred_y,prob_y):\n",
    "    print(a,\":\",b,\"->\",c)"
   ]
  },
  {
   "cell_type": "code",
   "execution_count": 20,
   "metadata": {},
   "outputs": [
    {
     "data": {
      "text/plain": [
       "array([1, 0, 0, 1, 0, 0])"
      ]
     },
     "execution_count": 20,
     "metadata": {},
     "output_type": "execute_result"
    }
   ],
   "source": [
    "pred_y"
   ]
  },
  {
   "cell_type": "code",
   "execution_count": null,
   "metadata": {},
   "outputs": [],
   "source": []
  }
 ],
 "metadata": {
  "kernelspec": {
   "display_name": "Python 3",
   "language": "python",
   "name": "python3"
  },
  "language_info": {
   "codemirror_mode": {
    "name": "ipython",
    "version": 3
   },
   "file_extension": ".py",
   "mimetype": "text/x-python",
   "name": "python",
   "nbconvert_exporter": "python",
   "pygments_lexer": "ipython3",
   "version": "3.6.9"
  }
 },
 "nbformat": 4,
 "nbformat_minor": 4
}
