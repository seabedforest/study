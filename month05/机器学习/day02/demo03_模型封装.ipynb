{
 "cells": [
  {
   "cell_type": "code",
   "execution_count": 1,
   "metadata": {},
   "outputs": [],
   "source": [
    "import numpy as np\n",
    "import pickle"
   ]
  },
  {
   "cell_type": "code",
   "execution_count": 2,
   "metadata": {},
   "outputs": [],
   "source": [
    "#声明薪资预测模型类\n",
    "class SalaryPredictionModel(object):\n",
    "    def __init__(self):\n",
    "        with open('linear_model.pk1','rb') as f:\n",
    "            self.mode1 = pickle.load(f)\n",
    "            \n",
    "    def predict(self,x):\n",
    "        \"\"\"\n",
    "        x:格式如:[12,14,16] 返回3个预测薪资\n",
    "        \"\"\"\n",
    "        x=np.array(x).reshape(-1,1)\n",
    "        return self.mode1.predict(x)"
   ]
  },
  {
   "cell_type": "code",
   "execution_count": 3,
   "metadata": {},
   "outputs": [
    {
     "data": {
      "text/plain": [
       "array([120291.82341322,  54142.08716303,  82491.9741274 , 148641.71037758,\n",
       "       176991.59734195,  63592.04948449, 101391.89877031])"
      ]
     },
     "execution_count": 3,
     "metadata": {},
     "output_type": "execute_result"
    }
   ],
   "source": [
    "#使用模型\n",
    "m=SalaryPredictionModel()\n",
    "m.predict([10,3,6,13,16,4,8])"
   ]
  },
  {
   "cell_type": "code",
   "execution_count": null,
   "metadata": {},
   "outputs": [],
   "source": []
  }
 ],
 "metadata": {
  "kernelspec": {
   "display_name": "Python 3",
   "language": "python",
   "name": "python3"
  },
  "language_info": {
   "codemirror_mode": {
    "name": "ipython",
    "version": 3
   },
   "file_extension": ".py",
   "mimetype": "text/x-python",
   "name": "python",
   "nbconvert_exporter": "python",
   "pygments_lexer": "ipython3",
   "version": "3.6.9"
  }
 },
 "nbformat": 4,
 "nbformat_minor": 4
}
